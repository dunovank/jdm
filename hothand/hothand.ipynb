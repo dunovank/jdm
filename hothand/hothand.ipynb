{
 "cells": [
  {
   "cell_type": "markdown",
   "metadata": {},
   "source": [
    "This notebook provides an example of the difficulties that humans exhibit in distinguishing random from nonrandom outcomes."
   ]
  },
  {
   "cell_type": "code",
   "execution_count": 1,
   "metadata": {
    "collapsed": true
   },
   "outputs": [],
   "source": [
    "import numpy\n",
    "import matplotlib.pyplot as plt\n",
    "\n",
    "import scipy.stats\n",
    "%matplotlib inline\n"
   ]
  },
  {
   "cell_type": "markdown",
   "metadata": {},
   "source": [
    "First we define a function to generate a random series of free throws with a particular likelihood of success.  We also provide the ability to generate a series that is streakier than random (using an autoregressive process) or one that is less streaky than random (by randomly inserting switches in the timeseries). "
   ]
  },
  {
   "cell_type": "code",
   "execution_count": 97,
   "metadata": {
    "collapsed": false
   },
   "outputs": [],
   "source": [
    "def mk_random(nshots,psuccess=0.5,ar=0.0,pswitch=0,require_p=False):\n",
    "    assert not (ar>0 and pswitch>0)\n",
    "    assert ar>=0 and ar<=1\n",
    "    assert pswitch>=0 and pswitch<=1\n",
    "\n",
    "    if ar==0 and pswitch==0:\n",
    "        r=numpy.random.rand(nshots)\n",
    "    \n",
    "    elif ar>0:\n",
    "        # generate random timeseries using autoregressive model\n",
    "        r=numpy.zeros(nshots)\n",
    "        r[0]=numpy.random.rand()\n",
    "        for i in range(1,nshots):\n",
    "            r[i]=r[i-1]*ar + numpy.random.rand()*(1-ar)\n",
    "            # make sure it's within bounds\n",
    "            if r[i]>1:\n",
    "                r[i]=1\n",
    "            elif r[i]<0:\n",
    "                r[i]=0\n",
    "    else:\n",
    "        # generate \"super-random\" series by flipping \n",
    "        r=numpy.zeros(nshots)\n",
    "        r[0]=numpy.random.rand()\n",
    "        for i in range(1,nshots):\n",
    "            if numpy.random.rand()<pswitch:\n",
    "                r[i]=numpy.abs(1-r[i-1])\n",
    "            else:\n",
    "                r[i]=numpy.random.rand()\n",
    "\n",
    "    if require_p:\n",
    "        # use percentile to ensure that the proportion of successes is always the same\n",
    "        psuccess=scipy.stats.scoreatpercentile(r,psuccess*100)\n",
    "    return (r<psuccess).astype('int')\n",
    "\n",
    "# define a function to compute run lengths\n",
    "# adapted from http://stackoverflow.com/questions/1066758/find-length-of-sequences-of-identical-values-in-a-numpy-array\n",
    "def rle(inarray):\n",
    "        \"\"\" run length encoding. Partial credit to R rle function. \n",
    "            Multi datatype arrays catered for including non Numpy\n",
    "            returns: tuple (runlengths, startpositions, values) \n",
    "            RP: edited to just return runlengths\"\"\"\n",
    "        ia = numpy.array(inarray)                  # force numpy\n",
    "        n = len(ia)\n",
    "        if n == 0: \n",
    "            return (None, None, None)\n",
    "        else:\n",
    "            y = numpy.array(ia[1:] != ia[:-1])     # pairwise unequal (string safe)\n",
    "            i = numpy.append(numpy.where(y), n - 1)   # must include last element posi\n",
    "            z = numpy.diff(numpy.append(-1, i))       # run lengths\n",
    "            p = numpy.cumsum(numpy.append(0, z))[:-1] # positions\n",
    "            return z   "
   ]
  },
  {
   "cell_type": "markdown",
   "metadata": {},
   "source": [
    "Generate a large number of sequences, and get the histogram of run lengths"
   ]
  },
  {
   "cell_type": "code",
   "execution_count": 148,
   "metadata": {
    "collapsed": true
   },
   "outputs": [],
   "source": [
    "nruns=10000\n",
    "nshots=25\n",
    "runlengths_rand=[]\n",
    "data_rand=[]\n",
    "for i in range(nruns):\n",
    "    s=mk_random(nshots,0.5)\n",
    "    for l in rle(s):\n",
    "        runlengths_rand.append(l)\n",
    "    data_rand.append(s)\n",
    "        \n",
    "runlengths_rand=numpy.array(runlengths_rand)\n",
    "\n",
    "runlengths_ar=[]\n",
    "data_ar=[]\n",
    "for i in range(nruns):\n",
    "    s=mk_random(nshots,0.5,ar=0.5)\n",
    "    for l in rle(s):\n",
    "        runlengths_ar.append(l)\n",
    "    data_ar.append(s)\n",
    "\n",
    "        \n",
    "runlengths_ar=numpy.array(runlengths_ar)\n",
    "\n",
    "runlengths_switch=[]\n",
    "data_switch=[]\n",
    "for i in range(nruns):\n",
    "    s=mk_random(nshots,0.5,pswitch=0.5)\n",
    "    for l in rle(s):\n",
    "        runlengths_switch.append(l)\n",
    "    data_switch.append(s)\n",
    "\n",
    "        \n",
    "runlengths_switch=numpy.array(runlengths_switch)\n",
    "\n",
    "\n"
   ]
  },
  {
   "cell_type": "code",
   "execution_count": 149,
   "metadata": {
    "collapsed": false
   },
   "outputs": [
    {
     "name": "stdout",
     "output_type": "stream",
     "text": [
      "exponential fit to random: lambda = 0.685, r2 = 0.99905\n",
      "exponential fit to ar: lambda = 0.769, r2 = 0.97556\n",
      "exponential fit to super-random: lambda = 0.647, r2 = 0.89684\n"
     ]
    },
    {
     "data": {
      "text/plain": [
       "<matplotlib.legend.Legend at 0x10dd44470>"
      ]
     },
     "execution_count": 149,
     "metadata": {},
     "output_type": "execute_result"
    },
    {
     "data": {
      "image/png": "[encoded data removed]",
      "text/plain": [
       "<matplotlib.figure.Figure at 0x10c8b2a58>"
      ]
     },
     "metadata": {},
     "output_type": "display_data"
    }
   ],
   "source": [
    "bins=numpy.arange(0.5,nshots+1.5,1)\n",
    "h_rand,_=numpy.histogram(runlengths_rand,bins=bins,normed=True)\n",
    "h_ar,_=numpy.histogram(runlengths_ar,bins=bins,normed=True)\n",
    "h_switch,_=numpy.histogram(runlengths_switch,bins=bins,normed=True)\n",
    "\n",
    "\n",
    "plt.plot(bins[:-1]+0.5,h_rand)\n",
    "plt.plot(bins[:-1]+0.5,h_ar,'green')\n",
    "plt.plot(bins[:-1]+0.5,h_switch,'red')\n",
    "\n",
    "from scipy.optimize import curve_fit\n",
    "\n",
    "def func(x, b):\n",
    "    return numpy.exp(-b * x)\n",
    "def powerlaw(x,a):\n",
    "    return a * x**(a-1)\n",
    "\n",
    "x=bins[:-1]+0.5\n",
    "popt_total, pcov = curve_fit(func, x, h_rand)\n",
    "print('exponential fit to random: lambda = %0.3f, r2 = %0.5f'%(popt_total[0],numpy.corrcoef(func(x, *popt_total),h_rand)[0,1]**2))\n",
    "popt_total, pcov = curve_fit(func, x, h_ar)\n",
    "print('exponential fit to ar: lambda = %0.3f, r2 = %0.5f'%(popt_total[0],numpy.corrcoef(func(x, *popt_total),h_ar)[0,1]**2))\n",
    "popt_total, pcov = curve_fit(func, x, h_switch)\n",
    "print('exponential fit to super-random: lambda = %0.3f, r2 = %0.5f'%(popt_total[0],numpy.corrcoef(func(x, *popt_total),h_switch)[0,1]**2))\n",
    "\n",
    "\n",
    "plt.ylabel('proportion')\n",
    "plt.xlabel('run length')\n",
    "plt.legend(['true random','autoregressive','super-random'])"
   ]
  },
  {
   "cell_type": "markdown",
   "metadata": {},
   "source": [
    "Let's see how well we can detect runs using the standard statistical approach.  "
   ]
  },
  {
   "cell_type": "code",
   "execution_count": 150,
   "metadata": {
    "collapsed": false
   },
   "outputs": [],
   "source": [
    "def runs_test(series):\n",
    "    # based on http://www.itl.nist.gov/div898/handbook/eda/section3/eda35d.htm\n",
    "    runs=rle(series)\n",
    "    r=numpy.sum(numpy.array(runs)>1)\n",
    "    if r<1:\n",
    "        return 1.0\n",
    "    n0=numpy.sum(series==0)\n",
    "    n1=numpy.sum(series==1)\n",
    "    r_bar=((2*n0*n1)/(n0 + n1)) + 1\n",
    "    s2_bar=((2*n0*n1)*(2*n0*n1 - n0 -n1))/((n0 + n1 - 1)*((n0+n1)**2))\n",
    "    assert s2_bar > 0.\n",
    "    z=(r - r_bar)/s2_bar\n",
    "    p=1.0 - scipy.stats.norm.cdf(numpy.abs(z))\n",
    "    #print(r,r_bar,s2_bar,z,p)\n",
    "    return p\n"
   ]
  },
  {
   "cell_type": "code",
   "execution_count": 151,
   "metadata": {
    "collapsed": false
   },
   "outputs": [],
   "source": [
    "runstest_rand=[]\n",
    "badctr_rand=0\n",
    "for i in range(nruns):\n",
    "    try:\n",
    "        runstest_rand.append(runs_test(data_rand[i]))\n",
    "    except:\n",
    "        badctr_rand+=1\n",
    "        \n",
    "runstest_ar=[]\n",
    "badctr_ar=0\n",
    "for i in range(nruns):\n",
    "    try:\n",
    "        runstest_ar.append(runs_test(data_ar[i]))\n",
    "    except:\n",
    "        badctr_ar+=1\n",
    "        \n",
    "runstest_switch=[]\n",
    "badctr_switch=0\n",
    "for i in range(nruns):\n",
    "    try:\n",
    "        runstest_switch.append(runs_test(data_switch[i]))\n",
    "    except:\n",
    "        badctr_switch+=1"
   ]
  },
  {
   "cell_type": "code",
   "execution_count": 152,
   "metadata": {
    "collapsed": false
   },
   "outputs": [
    {
     "name": "stdout",
     "output_type": "stream",
     "text": [
      "Probability of rejecting null hypothesis of random generation:\n",
      "rand: 0.040\n",
      "ar: 0.165\n",
      "super-random: 0.234\n"
     ]
    }
   ],
   "source": [
    "print('Probability of rejecting null hypothesis of random generation:')\n",
    "print('rand: %0.3f'%numpy.mean(numpy.array(runstest_rand)<0.05))\n",
    "print('ar: %0.3f'%numpy.mean(numpy.array(runstest_ar)<0.05))\n",
    "print('super-random: %0.3f'%numpy.mean(numpy.array(runstest_switch)<0.05))\n",
    "\n"
   ]
  },
  {
   "cell_type": "code",
   "execution_count": 120,
   "metadata": {
    "collapsed": false
   },
   "outputs": [],
   "source": [
    "\n"
   ]
  }
 ],
 "metadata": {
  "kernelspec": {
   "display_name": "Python 3",
   "language": "python",
   "name": "python3"
  },
  "language_info": {
   "codemirror_mode": {
    "name": "ipython",
    "version": 3
   },
   "file_extension": ".py",
   "mimetype": "text/x-python",
   "name": "python",
   "nbconvert_exporter": "python",
   "pygments_lexer": "ipython3",
   "version": "3.5.1"
  }
 },
 "nbformat": 4,
 "nbformat_minor": 0
}
