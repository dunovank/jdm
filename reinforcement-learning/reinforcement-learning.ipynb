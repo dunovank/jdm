{
 "cells": [
  {
   "cell_type": "markdown",
   "metadata": {},
   "source": [
    "This notebook provides an example of a simple reinforcement learning algorithm.  In this case, the learner has to decide between two actions, which are probabilistically reinforced. We will start with a simple Rescorla-Wagner learner."
   ]
  },
  {
   "cell_type": "code",
   "execution_count": 1,
   "metadata": {
    "collapsed": true
   },
   "outputs": [],
   "source": [
    "# set up imports\n",
    "import numpy\n",
    "import statsmodels.nonparametric.smoothers_lowess\n",
    "import matplotlib.pyplot as plt\n",
    "%matplotlib inline\n",
    "\n",
    "\n"
   ]
  },
  {
   "cell_type": "code",
   "execution_count": 140,
   "metadata": {
    "collapsed": true
   },
   "outputs": [],
   "source": [
    "learning_rate=0.001\n",
    "\n",
    "# probability of reward for the two responses\n",
    "p_A=0.75\n",
    "\n",
    "def softmax(q,temp):\n",
    "        p=numpy.exp(q[0]/temp)/(numpy.exp(q[0]/temp)+numpy.exp(q[1]/temp))\n",
    "        if p>numpy.random.rand():\n",
    "            return 0\n",
    "        else:\n",
    "            return 1\n",
    "        \n",
    "def outcome(resp,p_A):\n",
    "    if numpy.random.rand()<p_A:\n",
    "        rewarded_outcome=1\n",
    "    else:\n",
    "        rewarded_outcome=0\n",
    "    if resp==rewarded_outcome:\n",
    "        return 1\n",
    "    else:\n",
    "        return 0"
   ]
  },
  {
   "cell_type": "code",
   "execution_count": 141,
   "metadata": {
    "collapsed": false
   },
   "outputs": [],
   "source": [
    "ntrials=1000\n",
    "temp=0.1\n",
    "\n",
    "q=[0.0,0,0]\n",
    "\n",
    "resp=numpy.zeros(ntrials)\n",
    "reward=numpy.zeros(ntrials)\n",
    "correct=numpy.zeros(ntrials)\n",
    "\n",
    "\n",
    "for i in range(ntrials):\n",
    "    resp[i]=softmax(q,temp)\n",
    "    reward[i]=outcome(resp[i],p_A)\n",
    "    correct[i]=resp[i]==1\n",
    "    q[int(resp[i])]=q[int(resp[i])] + learning_rate*(reward[i]-q[int(resp[i])])\n",
    "    "
   ]
  },
  {
   "cell_type": "code",
   "execution_count": 142,
   "metadata": {
    "collapsed": false
   },
   "outputs": [],
   "source": [
    "blocksize=20\n",
    "nblocks=int(ntrials/blocksize)\n",
    "block_reward=numpy.zeros(nblocks)\n",
    "for i in range(nblocks):\n",
    "    block_trials=numpy.arange(i*blocksize,(i+1)*blocksize)\n",
    "    block_reward[i]=numpy.mean(resp[block_trials]==1)"
   ]
  },
  {
   "cell_type": "code",
   "execution_count": 145,
   "metadata": {
    "collapsed": false
   },
   "outputs": [
    {
     "data": {
      "text/plain": [
       "<matplotlib.text.Text at 0x10eb1e278>"
      ]
     },
     "execution_count": 145,
     "metadata": {},
     "output_type": "execute_result"
    },
    {
     "data": {
      "image/png": "[encoded data removed]",
      "text/plain": [
       "<matplotlib.figure.Figure at 0x10edd5470>"
      ]
     },
     "metadata": {},
     "output_type": "display_data"
    }
   ],
   "source": [
    "plt.plot(block_reward)\n",
    "smooth=statsmodels.nonparametric.smoothers_lowess.lowess(block_reward,numpy.arange(block_reward.shape[0]),frac=0.33)\n",
    "plt.plot(smooth[:,1])\n",
    "plt.xlabel('Blocks (%d trials/block)'%blocksize)\n",
    "plt.ylabel('Proportion optimal responses')"
   ]
  },
  {
   "cell_type": "code",
   "execution_count": 146,
   "metadata": {
    "collapsed": false
   },
   "outputs": [
    {
     "name": "stdout",
     "output_type": "stream",
     "text": [
      "mean proportion rewarded trials: 0.612\n"
     ]
    }
   ],
   "source": [
    "print('mean proportion rewarded trials: %0.3f'%numpy.mean(reward))"
   ]
  },
  {
   "cell_type": "code",
   "execution_count": null,
   "metadata": {
    "collapsed": true
   },
   "outputs": [],
   "source": []
  }
 ],
 "metadata": {
  "kernelspec": {
   "display_name": "Python 3",
   "language": "python",
   "name": "python3"
  },
  "language_info": {
   "codemirror_mode": {
    "name": "ipython",
    "version": 3
   },
   "file_extension": ".py",
   "mimetype": "text/x-python",
   "name": "python",
   "nbconvert_exporter": "python",
   "pygments_lexer": "ipython3",
   "version": "3.5.1"
  }
 },
 "nbformat": 4,
 "nbformat_minor": 0
}
